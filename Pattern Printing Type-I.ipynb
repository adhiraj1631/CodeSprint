{
 "cells": [
  {
   "cell_type": "code",
   "execution_count": 1,
   "id": "90f88d99",
   "metadata": {},
   "outputs": [
    {
     "name": "stdout",
     "output_type": "stream",
     "text": [
      "7\n",
      "             1\n",
      "           2   1\n",
      "         1   2   3\n",
      "       4   3   2   1\n",
      "     1   2   3   4   5\n",
      "   6   5   4   3   2   1\n",
      " 1   2   3   4   5   6   7\n",
      "Total numbers printed: 28\n"
     ]
    }
   ],
   "source": [
    "def marathon_training_chart(n):\n",
    "    # Calculate the total numbers to be printed\n",
    "    total_numbers = n * (n + 1) // 2  # Sum of numbers from 1 to n\n",
    "    \n",
    "    # Calculate width of the longest row for center alignment\n",
    "    max_width = n * 4 - 1  # Each number plus 3 spaces between numbers\n",
    "    \n",
    "    # Print motivational message if n > 10\n",
    "    if n > 10:\n",
    "        print(\"Abhik's marathon journey intensifies! Let's see his progress!\")\n",
    "    \n",
    "    # Generate and print the zig-zag pattern\n",
    "    for day in range(1, n + 1):\n",
    "        # Calculate the width of content in this row (numbers + spaces between them)\n",
    "        content_width = day * 4 - 3  # numbers with spaces between, but no trailing spaces\n",
    "        \n",
    "        # Calculate padding needed for center alignment\n",
    "        padding = (max_width - content_width) // 2\n",
    "        \n",
    "        # Create the row string based on even/odd day\n",
    "        if day % 2 == 1:  # Odd day - increasing order\n",
    "            row = \"   \".join(str(j) for j in range(1, day + 1))\n",
    "        else:  # Even day - decreasing order\n",
    "            row = \"   \".join(str(j) for j in range(day, 0, -1))\n",
    "        \n",
    "        # Print the row with proper center alignment\n",
    "        print(\" \" * padding + row)\n",
    "    \n",
    "    # Print the total number of values\n",
    "    print(f\"Total numbers printed: {total_numbers}\")\n",
    "\n",
    "# Read input and process\n",
    "if __name__ == \"__main__\":\n",
    "    n = int(input())\n",
    "    marathon_training_chart(n)"
   ]
  },
  {
   "cell_type": "code",
   "execution_count": null,
   "id": "0d54b450",
   "metadata": {},
   "outputs": [],
   "source": []
  }
 ],
 "metadata": {
  "kernelspec": {
   "display_name": "Python 3 (ipykernel)",
   "language": "python",
   "name": "python3"
  },
  "language_info": {
   "codemirror_mode": {
    "name": "ipython",
    "version": 3
   },
   "file_extension": ".py",
   "mimetype": "text/x-python",
   "name": "python",
   "nbconvert_exporter": "python",
   "pygments_lexer": "ipython3",
   "version": "3.10.9"
  }
 },
 "nbformat": 4,
 "nbformat_minor": 5
}
