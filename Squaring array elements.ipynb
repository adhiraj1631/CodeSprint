{
 "cells": [
  {
   "cell_type": "markdown",
   "id": "fb6fef47",
   "metadata": {},
   "source": [
    "Problem Statement\n",
    "\n",
    "In the enchanted land of Numeria, the Royal Mathemagician is fascinated by the mystical power of numbers. She has a row of magical stones, each inscribed with an integer. These stones are arranged in non-decreasing order (from smallest to largest). The Mathemagician wishes to harness their power by transforming each stone's number into its square.\n",
    "\n",
    "But after this magical transformation, she wants the stones to be arranged again in non-decreasing order of their new values.\n",
    "\n",
    "Your task is to help the Mathemagician by taking the original array of numbers, squaring each one, and then returning a new array where the squared values are sorted in non-decreasing order.\n",
    "Input Format\n",
    "\n",
    "An integer array nums, sorted in non-decreasing order.\n",
    "\n",
    "Output Format\n",
    "\n",
    "An integer array: the squares of each number from nums, sorted in non-decreasing order.\n",
    "\n",
    "Examples\n",
    "\n",
    "Example 1\n",
    "\n",
    "Input: nums = [-4, -1, 0, 3, 10]\n",
    "\n",
    "Output: [0, 1, 9, 16, 100]\n",
    "\n",
    "Explanation:\n",
    "\n",
    "First, square each number:\n",
    "\n",
    "(-4)² = 16\n",
    "\n",
    "(-1)² = 1\n",
    "\n",
    "-- 02 = 0\n",
    "\n",
    "-- 32 = 9\n",
    "\n",
    "102 = 100\n",
    "The squared array is [16,1,0,9,100]\n",
    "\n",
    "After sorting: [0,1,9,16,100]\n",
    "\n",
    "Example 2\n",
    "\n",
    "Input: nums = [-7, -3, 2, 3, 11]\n",
    "\n",
    "Output: [4, 9, 9, 49, 121]\n",
    "\n",
    "Explanation:\n",
    "\n",
    "Square each number.\n",
    "\n",
    "-- (-7)² = 49\n",
    "\n",
    "-- (-3)2 = 9\n",
    "\n",
    "--22 = 4\n",
    "\n",
    "-- 32 = 9\n",
    "\n",
    "112 = 121\n",
    "\n",
    "The squared array is [49,9,4,9,121]]\n",
    "\n",
    "After sorting: [4, 9, 9, 49, 121]\n",
    "\n",
    "Constraints\n",
    "\n",
    "1 ≤ nums.length ≤ 105\n",
    "\n",
    "-10 ≤ numslil ≤ 10"
   ]
  },
  {
   "cell_type": "code",
   "execution_count": 24,
   "id": "fc39b5eb",
   "metadata": {},
   "outputs": [
    {
     "name": "stdout",
     "output_type": "stream",
     "text": [
      "[49, 9, 4, 9, 121]\n"
     ]
    }
   ],
   "source": [
    "def squaring_arr(a):\n",
    "  a.sort()\n",
    "  i=0\n",
    "  j=i+1\n",
    "  for i in range(len(a)):\n",
    "    a[i]=a[i]*a[i]\n",
    "  return a\n",
    "a=[-7,-3,2,3,11]\n",
    "print(squaring_arr(a))"
   ]
  },
  {
   "cell_type": "code",
   "execution_count": null,
   "id": "cacec836",
   "metadata": {},
   "outputs": [],
   "source": []
  }
 ],
 "metadata": {
  "kernelspec": {
   "display_name": "Python 3 (ipykernel)",
   "language": "python",
   "name": "python3"
  },
  "language_info": {
   "codemirror_mode": {
    "name": "ipython",
    "version": 3
   },
   "file_extension": ".py",
   "mimetype": "text/x-python",
   "name": "python",
   "nbconvert_exporter": "python",
   "pygments_lexer": "ipython3",
   "version": "3.10.9"
  }
 },
 "nbformat": 4,
 "nbformat_minor": 5
}
