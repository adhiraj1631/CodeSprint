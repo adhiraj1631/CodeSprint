{
 "cells": [
  {
   "cell_type": "code",
   "execution_count": 2,
   "id": "7e9f5cf3",
   "metadata": {},
   "outputs": [
    {
     "name": "stdout",
     "output_type": "stream",
     "text": [
      "5\n",
      "3 30 34 5 9\n",
      "9534330\n"
     ]
    }
   ],
   "source": [
    "from functools import cmp_to_key\n",
    "def compare(x,y):\n",
    "  if x+y>y+x:\n",
    "    return -1\n",
    "  elif x+y<y+x:\n",
    "    return 1\n",
    "  else:\n",
    "    return 0\n",
    "def largest_number(nums):\n",
    "  nums=list(map(str,nums))\n",
    "  nums.sort(key=cmp_to_key(compare))\n",
    "  if nums[0]=='0':\n",
    "    return '0'\n",
    "  return ''.join(nums)\n",
    "n=int(input())\n",
    "tiles=list(map(int,input().split()))\n",
    "print(largest_number(tiles))\n"
   ]
  },
  {
   "cell_type": "code",
   "execution_count": null,
   "id": "9906fe56",
   "metadata": {},
   "outputs": [],
   "source": []
  }
 ],
 "metadata": {
  "kernelspec": {
   "display_name": "Python 3 (ipykernel)",
   "language": "python",
   "name": "python3"
  },
  "language_info": {
   "codemirror_mode": {
    "name": "ipython",
    "version": 3
   },
   "file_extension": ".py",
   "mimetype": "text/x-python",
   "name": "python",
   "nbconvert_exporter": "python",
   "pygments_lexer": "ipython3",
   "version": "3.10.9"
  }
 },
 "nbformat": 4,
 "nbformat_minor": 5
}
