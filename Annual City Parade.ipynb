{
 "cells": [
  {
   "cell_type": "markdown",
   "id": "4cefad74",
   "metadata": {},
   "source": [
    "Problem Statement\n",
    "\n",
    "During the annual city parade, children line up in a single row, each wearing a numbered badge. The parade organizer wants to find the child who is standing in the middle of the line to lead the next section of the parade.\n",
    "\n",
    "You are given a singly linked list of badge numbers representing the lineup of children. Your task is to return a list of badge numbers starting from the chosen leader to the end of the line.\n",
    "\n",
    "If the number of children is odd, the middle child is selected. If the number of children is even, the second of the two middle children is selected.\n",
    "\n",
    "Input Format\n",
    "\n",
    "A singly linked list of integers representing badge numbers, in the order children are standing\n",
    " Output Format\n",
    "\n",
    "A list of integers representing badge numbers, starting from the selected leader (middle child) to the end of the line.\n",
    "\n",
    "Examples\n",
    "\n",
    "Example 1\n",
    "\n",
    "Input:\n",
    "\n",
    "[1, 2, 3, 4, 5]\n",
    "\n",
    "Output:\n",
    "\n",
    "[3, 4, 5]\n",
    "\n",
    "Explanation:\n",
    "\n",
    "There are 5 children in the line. The middle child is the third one (badge number 3). The organizer selects this child and everyone after them.\n",
    "\n",
    "Example 2\n",
    "\n",
    "Input:\n",
    "[1, 2, 3, 4, 5, 6]\n",
    "\n",
    "Output:\n",
    "\n",
    "[4, 5, 6]\n",
    "\n",
    "Explanation:\n",
    "\n",
    "There are 6 children in the line. The two middle children are 3 and 4. The organizer chooses the second one (badge number 4) and everyone after them.\n",
    "\n",
    "Constraints\n",
    "\n",
    "The linked list contains at least one node. Badge numbers are positive integers."
   ]
  },
  {
   "cell_type": "code",
   "execution_count": 1,
   "id": "b828de39",
   "metadata": {},
   "outputs": [
    {
     "name": "stdout",
     "output_type": "stream",
     "text": [
      "[3, 4, 5]\n",
      "[4, 5, 6]\n"
     ]
    }
   ],
   "source": [
    "class ListNode:\n",
    "    def __init__(self, val=0, next=None):\n",
    "        self.val = val\n",
    "        self.next = next\n",
    "\n",
    "def middle_to_end(head):\n",
    "    # Step 1: Use slow and fast pointers to find the middle\n",
    "    slow = fast = head\n",
    "    while fast and fast.next:\n",
    "        slow = slow.next\n",
    "        fast = fast.next.next\n",
    "\n",
    "    # Step 2: Collect values from the middle to the end\n",
    "    result = []\n",
    "    while slow:\n",
    "        result.append(slow.val)\n",
    "        slow = slow.next\n",
    "\n",
    "    return result\n",
    "\n",
    "# Utility function to convert a Python list to a linked list\n",
    "def list_to_linkedlist(lst):\n",
    "    if not lst:\n",
    "        return None\n",
    "    head = ListNode(lst[0])\n",
    "    current = head\n",
    "    for num in lst[1:]:\n",
    "        current.next = ListNode(num)\n",
    "        current = current.next\n",
    "    return head\n",
    "\n",
    "# Example usage\n",
    "input_list = [1, 2, 3, 4, 5]\n",
    "head = list_to_linkedlist(input_list)\n",
    "print(middle_to_end(head))  # Output: [3, 4, 5]\n",
    "\n",
    "input_list = [1, 2, 3, 4, 5, 6]\n",
    "head = list_to_linkedlist(input_list)\n",
    "print(middle_to_end(head))  # Output: [4, 5, 6]\n"
   ]
  },
  {
   "cell_type": "code",
   "execution_count": null,
   "id": "7b65fca1",
   "metadata": {},
   "outputs": [],
   "source": []
  }
 ],
 "metadata": {
  "kernelspec": {
   "display_name": "Python 3 (ipykernel)",
   "language": "python",
   "name": "python3"
  },
  "language_info": {
   "codemirror_mode": {
    "name": "ipython",
    "version": 3
   },
   "file_extension": ".py",
   "mimetype": "text/x-python",
   "name": "python",
   "nbconvert_exporter": "python",
   "pygments_lexer": "ipython3",
   "version": "3.10.9"
  }
 },
 "nbformat": 4,
 "nbformat_minor": 5
}
