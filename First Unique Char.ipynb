{
 "cells": [
  {
   "cell_type": "markdown",
   "id": "790c829d",
   "metadata": {},
   "source": [
    "Problem Statement\n",
    "\n",
    "In the magical land of Queueville, the citizens line up in a queue to receive magical potions. One day, the wizard in charge decides to have some fun and uses his powers to reverse the order of the queue.\n",
    "\n",
    "Your task is to help the wizard reverse the queue so that the last citizen becomes the first, the second last becomes the second, and so on.\n",
    "\n",
    "Input Format\n",
    "\n",
    "The first line contains an integer n - the number of citizens in the queue.\n",
    "\n",
    "The second line contains n space-separated integers - the IDs of the citizens in the order they are currently standing.\n",
    "\n",
    "Output Format\n",
    "\n",
    "Output a single line containing the reversed queue as space-separated integers.\n",
    "\n",
    "Examples\n",
    "Input:\n",
    "\n",
    "6\n",
    "\n",
    "43110 26\n",
    "\n",
    "Output:\n",
    "\n",
    "6210 134\n",
    "\n",
    "Explanation:\n",
    "\n",
    "The original queue is [4, 3, 1, 10, 2, 6].\n",
    "\n",
    "After the wizard reverses it, the queue becomes [6, 2, 10, 1, 3, 4].\n",
    "\n",
    "Example 2\n",
    "\n",
    "Input:\n",
    "\n",
    "4\n",
    "\n",
    "4321\n",
    "\n",
    "Output:\n",
    "\n",
    "1234\n",
    "\n",
    "Constraints\n",
    "1 ≤ n ≤ 105\n",
    "\n",
    "Each ID is a positive integer ≤ 109"
   ]
  },
  {
   "cell_type": "code",
   "execution_count": 1,
   "id": "6e3a46cc",
   "metadata": {},
   "outputs": [
    {
     "name": "stdout",
     "output_type": "stream",
     "text": [
      "a#bb\n",
      "z#\n"
     ]
    }
   ],
   "source": [
    "from collections import deque\n",
    "\n",
    "def first_non_repeating(s: str) -> str:\n",
    "    freq = [0] * 26   # Frequency array for 'a' to 'z'\n",
    "    q = deque()       # Queue to store order of non-repeating characters\n",
    "    result = []\n",
    "\n",
    "    for ch in s:\n",
    "        idx = ord(ch) - ord('a')\n",
    "        freq[idx] += 1\n",
    "\n",
    "        # Add to queue if it's the first time we see this character\n",
    "        if freq[idx] == 1:\n",
    "            q.append(ch)\n",
    "\n",
    "        # Remove characters from the front that are now repeating\n",
    "        while q and freq[ord(q[0]) - ord('a')] > 1:\n",
    "            q.popleft()\n",
    "\n",
    "        # Append the first non-repeating character or '#' if none\n",
    "        result.append(q[0] if q else '#')\n",
    "\n",
    "    return ''.join(result)\n",
    "print(first_non_repeating(\"aabc\"))  # Output: a#bb\n",
    "print(first_non_repeating(\"zz\"))    # Output: z#\n"
   ]
  },
  {
   "cell_type": "code",
   "execution_count": null,
   "id": "6ed49855",
   "metadata": {},
   "outputs": [],
   "source": []
  }
 ],
 "metadata": {
  "kernelspec": {
   "display_name": "Python 3 (ipykernel)",
   "language": "python",
   "name": "python3"
  },
  "language_info": {
   "codemirror_mode": {
    "name": "ipython",
    "version": 3
   },
   "file_extension": ".py",
   "mimetype": "text/x-python",
   "name": "python",
   "nbconvert_exporter": "python",
   "pygments_lexer": "ipython3",
   "version": "3.10.9"
  }
 },
 "nbformat": 4,
 "nbformat_minor": 5
}
