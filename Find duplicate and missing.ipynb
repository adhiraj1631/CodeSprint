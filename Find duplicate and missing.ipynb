{
 "cells": [
  {
   "cell_type": "markdown",
   "id": "5d74e031",
   "metadata": {},
   "source": [
    "In the magical library of Arcanum, each book is assigned a unique enchantment code from 1 to n. However, a miscast spell caused chaos: one enchantment code was accidentally duplicated, and another one mysteriously vanished!\n",
    "\n",
    "Your task is to restore order by identifying:\n",
    "\n",
    "The duplicated code\n",
    "\n",
    "The missing code\n",
    "\n",
    "Input Format\n",
    "\n",
    "An array nums of length n, where nums[i] represents the enchantment codes after the magical error.\n",
    "\n",
    "It is guaranteed that:\n",
    "\n",
    "Exactly one code appears twice.\n",
    "\n",
    "Exactly one code is missing.\n",
    "\n",
    "Output Format\n",
    "\n",
    "An array of two integers:\n",
    "\n",
    "First element: The duplicated code.\n",
    "\n",
    "Second element: The missing code.\n",
    "Examples\n",
    "\n",
    "Example 1\n",
    "\n",
    "Input\n",
    "\n",
    "nums = [1, 2, 2, 4]\n",
    "\n",
    "Output\n",
    "\n",
    "[2, 3]\n",
    "\n",
    "Explanation\n",
    "\n",
    "Original codes should be: [1, 2, 3, 4]\n",
    "\n",
    "2 appears twice → Duplicated\n",
    "\n",
    "3 is missing → Missing\n",
    "\n",
    "Example 2\n",
    "\n",
    "Input\n",
    "\n",
    "nums = [1, 1]\n",
    "\n",
    "Output\n",
    "\n",
    "[1, 2]\n",
    "\n",
    "Explanation\n",
    "\n",
    "Original.codes should be 11 21\n",
    "Original codes should be: [1, 2]\n",
    "\n",
    "1 appears twice → Duplicated\n",
    "\n",
    "2 is missing → Missing\n",
    "\n",
    "Constraints\n",
    "\n",
    "2 ≤ nums.length < 10\n",
    "\n",
    "1 ≤ nums[i] ≤ 10\n",
    "\n",
    "All elements in nums are integers\n",
    "\n",
    "There is exactly one duplicate and one missing number"
   ]
  },
  {
   "cell_type": "code",
   "execution_count": 1,
   "id": "9fbdf0b7",
   "metadata": {},
   "outputs": [
    {
     "name": "stdout",
     "output_type": "stream",
     "text": [
      "[2, 3]\n"
     ]
    }
   ],
   "source": [
    "def findErrorNums(nums):\n",
    "    n = len(nums)\n",
    "    expected_sum = n * (n + 1) // 2\n",
    "    actual_sum = sum(nums)\n",
    "    actual_set_sum = sum(set(nums))\n",
    "    \n",
    "    duplicate = actual_sum - actual_set_sum\n",
    "    missing = expected_sum - actual_set_sum\n",
    "    \n",
    "    return [duplicate, missing]\n",
    "nums = [1, 2, 2, 4]\n",
    "print(findErrorNums(nums))  # Output: [2, 3]\n"
   ]
  },
  {
   "cell_type": "code",
   "execution_count": null,
   "id": "2d4d6f3f",
   "metadata": {},
   "outputs": [],
   "source": []
  }
 ],
 "metadata": {
  "kernelspec": {
   "display_name": "Python 3 (ipykernel)",
   "language": "python",
   "name": "python3"
  },
  "language_info": {
   "codemirror_mode": {
    "name": "ipython",
    "version": 3
   },
   "file_extension": ".py",
   "mimetype": "text/x-python",
   "name": "python",
   "nbconvert_exporter": "python",
   "pygments_lexer": "ipython3",
   "version": "3.10.9"
  }
 },
 "nbformat": 4,
 "nbformat_minor": 5
}
