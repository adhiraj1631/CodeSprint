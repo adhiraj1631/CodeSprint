{
 "cells": [
  {
   "cell_type": "code",
   "execution_count": 2,
   "id": "791bf138",
   "metadata": {},
   "outputs": [
    {
     "name": "stdout",
     "output_type": "stream",
     "text": [
      "6\n",
      "1 2 4 3 6 7\n",
      "10\n",
      "true\n"
     ]
    }
   ],
   "source": [
    "def has_triplet_sum(arr, target):\n",
    "  n=len(arr)\n",
    "  arr.sort()\n",
    "  for i in range(n-2):\n",
    "    left=i+1\n",
    "    right=n-1\n",
    "    while left<right:\n",
    "      total=arr[i]+arr[left]+arr[right]\n",
    "      if total==target:\n",
    "        return True\n",
    "      elif total<target:\n",
    "        left+=1\n",
    "      else:\n",
    "        right-=1\n",
    "  return False\n",
    "n=int(input())\n",
    "arr=list(map(int,input().split()))\n",
    "target=int(input())\n",
    "print(str(has_triplet_sum(arr,target)).lower())"
   ]
  },
  {
   "cell_type": "code",
   "execution_count": null,
   "id": "de021c84",
   "metadata": {},
   "outputs": [],
   "source": []
  }
 ],
 "metadata": {
  "kernelspec": {
   "display_name": "Python 3 (ipykernel)",
   "language": "python",
   "name": "python3"
  },
  "language_info": {
   "codemirror_mode": {
    "name": "ipython",
    "version": 3
   },
   "file_extension": ".py",
   "mimetype": "text/x-python",
   "name": "python",
   "nbconvert_exporter": "python",
   "pygments_lexer": "ipython3",
   "version": "3.10.9"
  }
 },
 "nbformat": 4,
 "nbformat_minor": 5
}
