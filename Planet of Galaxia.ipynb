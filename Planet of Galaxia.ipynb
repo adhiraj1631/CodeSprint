{
 "cells": [
  {
   "cell_type": "markdown",
   "id": "e35c0d77",
   "metadata": {},
   "source": [
    "On the distant planet of Galaxia, a deadly virus has swept through the population. Thankfully, a brilliant scientist has engineered a new vaccine, each batch possessing a unique midichlorians count-a measure of its curing power.\n",
    "\n",
    "Similarly, each infected patient has a midichlorians count, representing the strength of the virus within them.\n",
    "\n",
    "To cure a patient, a doctor must assign them a vaccine whose midichlorians count is strictly greater than that of the patient's infection strength. Each vaccine can be used only once, and there are exactly as many vaccines as patients.\n",
    "\n",
    "Your task is to determine whether it is possible to cure all the patients using the available vaccines.\n",
    "\n",
    "Input Format\n",
    "\n",
    "The first line contains an integer N, the number of vaccines (and patients).\n",
    "\n",
    "The second line contains N space-separated integers, the\n",
    "midichlorians count of each vaccine batch.\n",
    "\n",
    "The third line contains N space-separated integers, the midichlorians count of each patient.\n",
    "\n",
    "Output Format\n",
    "\n",
    "Print yes if all patients can be cured.\n",
    "\n",
    "Print No if even one patient cannot be cured.\n",
    "\n",
    "Examples\n",
    "\n",
    "Example 1\n",
    "\n",
    "Input:\n",
    "\n",
    "3\n",
    "\n",
    "10 15 12\n",
    "\n",
    "9 10 11\n",
    "\n",
    "Output: yes\n",
    "\n",
    "Explanation:\n",
    "\n",
    "Sort vaccines: [10, 12, 15]\n",
    "\n",
    "Sort patients: [9, 10, 11]\n",
    "\n",
    "Assian smallest vaccine to smallest patient\n",
    "10 > 9 cured\n",
    "\n",
    "12 > 10 cured\n",
    "\n",
    "15. 11 cured\n",
    "\n",
    "All patients can be cured.\n",
    "\n",
    "Example 2\n",
    "\n",
    "Input:\n",
    "\n",
    "4\n",
    "\n",
    "8765\n",
    "\n",
    "7766\n",
    "\n",
    "Output: No\n",
    "\n",
    "Explanation:\n",
    "\n",
    "Sort vaccines: [5, 6, 7, 8]\n",
    "\n",
    "Sort patients: [6, 6, 7, 7]\n",
    "\n",
    "Assign smallest vaccine to smallest patient:\n",
    "\n",
    "56- not cured\n",
    "\n",
    "6 = 6→ not cured\n",
    "\n",
    "7=7 not cured"
   ]
  },
  {
   "cell_type": "code",
   "execution_count": 2,
   "id": "383015a2",
   "metadata": {},
   "outputs": [
    {
     "name": "stdout",
     "output_type": "stream",
     "text": [
      "4\n",
      "8 7 6 5\n",
      "7 7 6 6\n",
      "No\n"
     ]
    }
   ],
   "source": [
    "def can_cure_all_patients(n,vaccines,patients):\n",
    "  vaccines.sort()\n",
    "  patients.sort()\n",
    "  for i in range(n):\n",
    "    if vaccines[i]<=patients[i]:\n",
    "      return \"No\"\n",
    "  return \"yes\"\n",
    "n=int(input())\n",
    "vaccines=list(map(int,input().split()))\n",
    "patients=list(map(int,input().split()))\n",
    "print(can_cure_all_patients(n,vaccines,patients))"
   ]
  },
  {
   "cell_type": "code",
   "execution_count": null,
   "id": "1deadac4",
   "metadata": {},
   "outputs": [],
   "source": []
  }
 ],
 "metadata": {
  "kernelspec": {
   "display_name": "Python 3 (ipykernel)",
   "language": "python",
   "name": "python3"
  },
  "language_info": {
   "codemirror_mode": {
    "name": "ipython",
    "version": 3
   },
   "file_extension": ".py",
   "mimetype": "text/x-python",
   "name": "python",
   "nbconvert_exporter": "python",
   "pygments_lexer": "ipython3",
   "version": "3.10.9"
  }
 },
 "nbformat": 4,
 "nbformat_minor": 5
}
