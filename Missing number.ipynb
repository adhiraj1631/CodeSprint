{
 "cells": [
  {
   "cell_type": "markdown",
   "id": "28a097fe",
   "metadata": {},
   "source": [
    "Problem Statement\n",
    "\n",
    "In the magical land of Numeria, the royal wizard is tasked with organizing a grand parade for the kingdom's children.\n",
    "\n",
    "Each child is assigned a unique number badge ranging from 0 to n. However, on the day of the parade, one badge goes missing!\n",
    "\n",
    "The wizard receives a list of all the badge numbers that were found. Your mission is to help the wizard determine which badge number is missing so that every child can join the parade.\n",
    "\n",
    "Input Format\n",
    "\n",
    "An array nums of length n containing distinct integers in the range [0, n].\n",
    "\n",
    "Output Format\n",
    "\n",
    "A single integer - the missing badge number.\n",
    "\n",
    "Examples\n",
    "\n",
    "Example 1\n",
    "Input:\n",
    "\n",
    "nums = [1, 0, 3]\n",
    "\n",
    "Output:\n",
    "\n",
    "2\n",
    "\n",
    "Explanation:\n",
    "\n",
    "The badges found are 0, 1, and 3. The full range is from 0 to 3. So, the missing badge is 2.\n",
    "\n",
    "Example 2\n",
    "\n",
    "Input:\n",
    "\n",
    "nums = [5, 2, 0, 4, 1]\n",
    "\n",
    "Output:\n",
    "\n",
    "3\n",
    "\n",
    "Explanation:\n",
    "\n",
    "The badges should cover the range 0 to 5. The missing number in the list is 3.\n",
    "\n",
    "Constraints\n",
    "\n",
    "Length of nums = n\n",
    "Each element in nums is distinct and within the range [0, n] 1 ≤ n ≤ 105"
   ]
  },
  {
   "cell_type": "code",
   "execution_count": 8,
   "id": "0f8d7d78",
   "metadata": {},
   "outputs": [
    {
     "name": "stdout",
     "output_type": "stream",
     "text": [
      "2\n",
      "3\n"
     ]
    }
   ],
   "source": [
    "def missing_num(a):\n",
    "    xor1 = 0  # XOR of all elements in the array\n",
    "    xor2 = 0  # XOR of all numbers from 0 to n\n",
    "\n",
    "    for i in range(len(a)):\n",
    "        xor2 = xor2 ^ a[i]     # XOR of array elements\n",
    "        xor1 = xor1 ^ (i + 1)  # XOR of indices + 1 (i.e., numbers from 1 to n)\n",
    "\n",
    "    return xor1 ^ xor2  # Final XOR gives the missing number\n",
    "\n",
    "# Example usage:\n",
    "a = [1, 0, 3]\n",
    "print(missing_num(a))  # Output: 2\n",
    "\n",
    "a = [5, 2, 0, 4, 1]\n",
    "print(missing_num(a))  # Output: 3\n"
   ]
  },
  {
   "cell_type": "code",
   "execution_count": null,
   "id": "720bde17",
   "metadata": {},
   "outputs": [],
   "source": []
  }
 ],
 "metadata": {
  "kernelspec": {
   "display_name": "Python 3 (ipykernel)",
   "language": "python",
   "name": "python3"
  },
  "language_info": {
   "codemirror_mode": {
    "name": "ipython",
    "version": 3
   },
   "file_extension": ".py",
   "mimetype": "text/x-python",
   "name": "python",
   "nbconvert_exporter": "python",
   "pygments_lexer": "ipython3",
   "version": "3.10.9"
  }
 },
 "nbformat": 4,
 "nbformat_minor": 5
}
