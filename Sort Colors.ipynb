{
 "cells": [
  {
   "cell_type": "code",
   "execution_count": 2,
   "id": "bd586d70",
   "metadata": {},
   "outputs": [
    {
     "name": "stdout",
     "output_type": "stream",
     "text": [
      "Sorted List 1:\n",
      "0 -> 1 -> 1 -> 2 -> 2 -> 2 -> 2 -> 2\n",
      "\n",
      "Sorted List 2:\n",
      "0 -> 1 -> 2 -> 2\n"
     ]
    }
   ],
   "source": [
    "class ListNode:\n",
    "    def __init__(self, val=0, next=None):  # Fixed the constructor\n",
    "        self.val = val\n",
    "        self.next = next\n",
    "\n",
    "def sortColors(head):\n",
    "    if not head or not head.next:\n",
    "        return head\n",
    "\n",
    "    # Dummy heads for 0s, 1s, 2s\n",
    "    zero_dummy = ListNode(-1)\n",
    "    one_dummy = ListNode(-1)\n",
    "    two_dummy = ListNode(-1)\n",
    "\n",
    "    zero = zero_dummy\n",
    "    one = one_dummy\n",
    "    two = two_dummy\n",
    "\n",
    "    # Traverse and separate nodes\n",
    "    curr = head\n",
    "    while curr:\n",
    "        if curr.val == 0:\n",
    "            zero.next = curr\n",
    "            zero = zero.next\n",
    "        elif curr.val == 1:\n",
    "            one.next = curr\n",
    "            one = one.next\n",
    "        else:\n",
    "            two.next = curr\n",
    "            two = two.next\n",
    "        curr = curr.next\n",
    "\n",
    "    # Connect the three lists\n",
    "    zero.next = one_dummy.next if one_dummy.next else two_dummy.next\n",
    "    one.next = two_dummy.next\n",
    "    two.next = None  # Last node should point to None\n",
    "\n",
    "    return zero_dummy.next\n",
    "\n",
    "# Helper functions\n",
    "def createLinkedList(arr):\n",
    "    if not arr:\n",
    "        return None\n",
    "    head = ListNode(arr[0])\n",
    "    current = head\n",
    "    for val in arr[1:]:\n",
    "        current.next = ListNode(val)\n",
    "        current = current.next\n",
    "    return head\n",
    "\n",
    "def printLinkedList(head):\n",
    "    result = []\n",
    "    while head:\n",
    "        result.append(str(head.val))\n",
    "        head = head.next\n",
    "    print(\" -> \".join(result))\n",
    "\n",
    "# Example Usage:\n",
    "arr1 = [1, 2, 2, 1, 2, 0, 2, 2]\n",
    "head1 = createLinkedList(arr1)\n",
    "sorted_head1 = sortColors(head1)\n",
    "print(\"Sorted List 1:\")\n",
    "printLinkedList(sorted_head1)\n",
    "\n",
    "arr2 = [2, 2, 0, 1]\n",
    "head2 = createLinkedList(arr2)\n",
    "sorted_head2 = sortColors(head2)\n",
    "print(\"\\nSorted List 2:\")\n",
    "printLinkedList(sorted_head2)\n"
   ]
  },
  {
   "cell_type": "code",
   "execution_count": null,
   "id": "08958bd7",
   "metadata": {},
   "outputs": [],
   "source": []
  },
  {
   "cell_type": "code",
   "execution_count": null,
   "id": "96c31f15",
   "metadata": {},
   "outputs": [],
   "source": []
  }
 ],
 "metadata": {
  "kernelspec": {
   "display_name": "Python 3 (ipykernel)",
   "language": "python",
   "name": "python3"
  },
  "language_info": {
   "codemirror_mode": {
    "name": "ipython",
    "version": 3
   },
   "file_extension": ".py",
   "mimetype": "text/x-python",
   "name": "python",
   "nbconvert_exporter": "python",
   "pygments_lexer": "ipython3",
   "version": "3.10.9"
  }
 },
 "nbformat": 4,
 "nbformat_minor": 5
}
