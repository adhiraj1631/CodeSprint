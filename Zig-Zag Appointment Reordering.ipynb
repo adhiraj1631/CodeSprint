{
 "cells": [
  {
   "cell_type": "markdown",
   "id": "fe81218b",
   "metadata": {},
   "source": [
    "Zig-Zag Appointment Reordering\n",
    "\n",
    "Problem Statement\n",
    "\n",
    "Anuska works in the IT department of a hospital, where she is developing a smart patient scheduling system. The system receives a list of appointment IDs, representing the current order in which patients are scheduled (based on arrival time).\n",
    "\n",
    "Due to a new hospital policy, the administration wants to prioritize patients in a more efficient order, using a zig-zag pattern. The new pattern works as follows:\n",
    "\n",
    "First, schedule the first appointment from the original list.\n",
    "\n",
    "Then, schedule the last appointment.\n",
    "\n",
    "Next, the second appointment.\n",
    "\n",
    "Then, the second last appointment.\n",
    "\n",
    "Continue this alternating selection from start and end until all appointments are scheduled.\n",
    "\n",
    "This alternating selection is called zig-zag reordering.\n",
    "Input Format\n",
    "\n",
    "A list of integers appointments, representing appointment IDs in order of patient arrival.\n",
    "\n",
    "Output Format\n",
    "\n",
    "A new list of integers, representing appointment IDs reordered in the zig-zag pattern.\n",
    "\n",
    "Constraints\n",
    "\n",
    "0 ≤ appointments.length ≤ 105\n",
    "\n",
    "Each appointment ID is a positive integer.\n",
    "\n",
    "Examples\n",
    "\n",
    "Example 1\n",
    "\n",
    "Input\n",
    "\n",
    "appointments = [1, 2, 3, 4, 5]\n",
    "\n",
    "Output\n",
    "\n",
    "[1, 5, 2, 4, 3]\n",
    "\n",
    "Example 2\n",
    "\n",
    "Input\n",
    "appointments = [10, 20, 30, 40]\n",
    "\n",
    "Output [10, 40, 20, 30]\n",
    "\n",
    "Explanation\n",
    "\n",
    "Elements are selected from start and end alternatively. The process continues until all elements are reordered in the zig-zag pattern.\n",
    "Wap in python with optimal time and space complexity"
   ]
  },
  {
   "cell_type": "code",
   "execution_count": 1,
   "id": "6ffecc46",
   "metadata": {},
   "outputs": [
    {
     "name": "stdout",
     "output_type": "stream",
     "text": [
      "[1, 5, 2, 4, 3]\n",
      "[10, 40, 20, 30]\n"
     ]
    }
   ],
   "source": [
    "def zig_zag_reorder(appointments):\n",
    "    result = []\n",
    "    left, right = 0, len(appointments) - 1\n",
    "\n",
    "    while left <= right:\n",
    "        if left == right:\n",
    "            result.append(appointments[left])\n",
    "        else:\n",
    "            result.append(appointments[left])\n",
    "            result.append(appointments[right])\n",
    "        left += 1\n",
    "        right -= 1\n",
    "\n",
    "    return result\n",
    "print(zig_zag_reorder([1, 2, 3, 4, 5]))  \n",
    "print(zig_zag_reorder([10, 20, 30, 40]))  "
   ]
  },
  {
   "cell_type": "code",
   "execution_count": null,
   "id": "86e3314e",
   "metadata": {},
   "outputs": [],
   "source": []
  },
  {
   "cell_type": "code",
   "execution_count": null,
   "id": "5f642d77",
   "metadata": {},
   "outputs": [],
   "source": []
  }
 ],
 "metadata": {
  "kernelspec": {
   "display_name": "Python 3 (ipykernel)",
   "language": "python",
   "name": "python3"
  },
  "language_info": {
   "codemirror_mode": {
    "name": "ipython",
    "version": 3
   },
   "file_extension": ".py",
   "mimetype": "text/x-python",
   "name": "python",
   "nbconvert_exporter": "python",
   "pygments_lexer": "ipython3",
   "version": "3.10.9"
  }
 },
 "nbformat": 4,
 "nbformat_minor": 5
}
