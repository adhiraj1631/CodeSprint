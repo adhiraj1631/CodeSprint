{
 "cells": [
  {
   "cell_type": "markdown",
   "id": "2142925a",
   "metadata": {},
   "source": [
    "Problem Statement\n",
    "\n",
    "Given a stream of lowercase English characters, for each character added to the stream, determine the first non-repeating character so far. If no non-repeating character exists at that moment, use the character #.\n",
    "\n",
    "This problem is helpful for designing real-time text processing systems such as chat analyzers, keyloggers, or live input validators.\n",
    "\n",
    "Input Format\n",
    "\n",
    "A string s consisting of lowercase English letters (1 ≤ length ≤ 10\").\n",
    "\n",
    "Output Format\n",
    "\n",
    "A string where each character represents the first non-repeating character seen so far in the stream.\n",
    "\n",
    "If no such character exists at a certain point, use #.\n",
    "\n",
    "Examples\n",
    "\n",
    "Example 1\n",
    "Input:\n",
    "\n",
    "s = \"aabc\"\n",
    "\n",
    "Output:\n",
    "\n",
    "a#bb\n",
    "\n",
    "Explanation:\n",
    "\n",
    "At index 0: 'a' is seen → non-repeating → output 'a'\n",
    "\n",
    "At index 1: 'a' repeats → no non-repeating → output '#'\n",
    "\n",
    "At index 2: 'b' is new → first non-repeating → output 'b'\n",
    "\n",
    "At index 3: 'c' is new, but 'b' is still non-repeating →\n",
    "\n",
    "output 'b'\n",
    "\n",
    "Example 2\n",
    "\n",
    "Input:\n",
    "\n",
    "s = \"zz\"\n",
    "\n",
    "Output:\n",
    "\n",
    "z#\n",
    "\n",
    "Explanation:\n",
    "Explanation:\n",
    "\n",
    "At index 0: 'z' appears once → output 'z'\n",
    "\n",
    "At index 1: 'z' repeats → output '#'"
   ]
  },
  {
   "cell_type": "code",
   "execution_count": 1,
   "id": "4afe3452",
   "metadata": {},
   "outputs": [
    {
     "name": "stdout",
     "output_type": "stream",
     "text": [
      "6\n",
      "4 3 1 10 2 6\n",
      "6 2 10 1 3 4\n"
     ]
    }
   ],
   "source": [
    "def reverse_queue():\n",
    "    # Input: number of citizens\n",
    "    n = int(input())\n",
    "    \n",
    "    # Input: space-separated citizen IDs, parsed as list of integers\n",
    "    queue = list(map(int, input().split()))\n",
    "    \n",
    "    # Reverse the queue\n",
    "    reversed_queue = queue[::-1]\n",
    "    \n",
    "    # Output the reversed queue\n",
    "    print(' '.join(map(str, reversed_queue)))\n",
    "\n",
    "# Call the function\n",
    "reverse_queue()\n",
    "\n"
   ]
  },
  {
   "cell_type": "code",
   "execution_count": null,
   "id": "ff78c4d3",
   "metadata": {},
   "outputs": [],
   "source": []
  }
 ],
 "metadata": {
  "kernelspec": {
   "display_name": "Python 3 (ipykernel)",
   "language": "python",
   "name": "python3"
  },
  "language_info": {
   "codemirror_mode": {
    "name": "ipython",
    "version": 3
   },
   "file_extension": ".py",
   "mimetype": "text/x-python",
   "name": "python",
   "nbconvert_exporter": "python",
   "pygments_lexer": "ipython3",
   "version": "3.10.9"
  }
 },
 "nbformat": 4,
 "nbformat_minor": 5
}
