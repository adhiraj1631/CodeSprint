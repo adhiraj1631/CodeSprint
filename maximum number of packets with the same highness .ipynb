{
 "cells": [
  {
   "cell_type": "markdown",
   "id": "63811f28",
   "metadata": {},
   "source": [
    "Problem Statement\n",
    "\n",
    "Little Deepu and Little Kuldeep are infamous partners in the world of smuggling. Deepu, still learning the tricks of the trade, is tasked with packing the drug packets. Each packet has a \"highness\" value, which represents its strength or worth.\n",
    "\n",
    "Kuldeep, the mastermind, wants to reduce the number of packets that need to be physically smuggled. The rule is: A packet with a smaller highness value can be nested inside a packet with a larger value.\n",
    "\n",
    "Each packet can contain at most one other packet.\n",
    "\n",
    "Each packet can be inside at most one other packet.\n",
    "\n",
    "Your task is to compute the minimum number of packets that Kuldeep needs to smuggle after optimally nesting the packets.\n",
    "\n",
    "Input Format\n",
    "\n",
    "The first line contains a single integer N-the number of packets.\n",
    "\n",
    "The next N lines each contain a single integer X- the highness value of each packet.\n",
    "\n",
    "Output Format\n",
    "\n",
    "A single integer: the minimum number of packets that must be smuggled after optimal nesting.\n",
    "\n",
    "Examples\n",
    "\n",
    "Input 1\n",
    "\n",
    "3\n",
    "\n",
    "1\n",
    "\n",
    "2\n",
    "\n",
    "3\n",
    "\n",
    "Output 1\n",
    "\n",
    "1\n",
    "\n",
    "Explanation:\n",
    "All packets can be nested: 1→2→3, resulting in only one packet to smuggle.\n",
    "\n",
    "Input 2\n",
    "\n",
    "4\n",
    "\n",
    "2\n",
    "\n",
    "2\n",
    "\n",
    "2\n",
    "\n",
    "2\n",
    "\n",
    "Output 2\n",
    "\n",
    "4\n",
    "\n",
    "Explanation:\n",
    "\n",
    "All packets have the same highness value and cannot be nested inside each other, so each must be smuggled separately.\n",
    "\n",
    "Constraints\n",
    "\n",
    "1 ≤ N ≤ 10^5"
   ]
  },
  {
   "cell_type": "code",
   "execution_count": 2,
   "id": "e9699e74",
   "metadata": {},
   "outputs": [
    {
     "name": "stdout",
     "output_type": "stream",
     "text": [
      "4\n",
      "2\n",
      "2\n",
      "2\n",
      "2\n",
      "4\n"
     ]
    }
   ],
   "source": [
    "from collections import Counter\n",
    "\n",
    "# Input\n",
    "N = int(input())\n",
    "highness = [int(input()) for _ in range(N)]\n",
    "\n",
    "# Count frequency of each highness value\n",
    "freq = Counter(highness)\n",
    "\n",
    "# The answer is the maximum frequency\n",
    "answer = max(freq.values())\n",
    "print(answer)\n"
   ]
  },
  {
   "cell_type": "code",
   "execution_count": null,
   "id": "98744e56",
   "metadata": {},
   "outputs": [],
   "source": []
  }
 ],
 "metadata": {
  "kernelspec": {
   "display_name": "Python 3 (ipykernel)",
   "language": "python",
   "name": "python3"
  },
  "language_info": {
   "codemirror_mode": {
    "name": "ipython",
    "version": 3
   },
   "file_extension": ".py",
   "mimetype": "text/x-python",
   "name": "python",
   "nbconvert_exporter": "python",
   "pygments_lexer": "ipython3",
   "version": "3.10.9"
  }
 },
 "nbformat": 4,
 "nbformat_minor": 5
}
