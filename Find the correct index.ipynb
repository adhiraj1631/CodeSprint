{
 "cells": [
  {
   "cell_type": "markdown",
   "id": "0f769c23",
   "metadata": {},
   "source": [
    "Problem Statement\n",
    "\n",
    "In the magical library of Sortland, books are always arranged in perfect ascending order by their numbers. Whenever a new book arrives, the librarian must find the correct position for it:\n",
    "\n",
    "If the book already exists on the shelf, return its current index.\n",
    "\n",
    "If the book does not exist, determine the index at which it should be inserted to maintain the sorted order.\n",
    "\n",
    "Your task is to help the librarian find the right index using efficient search logic.\n",
    "\n",
    "Input Format\n",
    "\n",
    "nums: A sorted list of distinct integers representing book numbers on the shelf.\n",
    "\n",
    "target: An integer representing the number of the new book.\n",
    "\n",
    "Output Format\n",
    "Return a single integer.\n",
    "\n",
    "The index of the target if it is found in nums. Otherwise, the index where it should be inserted.\n",
    "\n",
    "Examples\n",
    "\n",
    "Example 1\n",
    "\n",
    "Input:\n",
    "\n",
    "nums = [2, 4, 6]\n",
    "\n",
    "target = 5\n",
    "\n",
    "Output:\n",
    "\n",
    "2\n",
    "\n",
    "Explanation:\n",
    "\n",
    "Book number 5 is not in the list. If inserted, the list becomes [2, 4, 5, 6]. So, the correct position is index 2.\n",
    "\n",
    "Example 2\n",
    "\n",
    "Input:\n",
    "\n",
    "nums = [2, 4, 6, 8]\n",
    "target = 6\n",
    "\n",
    "Output:\n",
    "\n",
    "2 Explanation: Book number 6 already exists on the shelf at index 2.\n",
    "\n",
    "Constraints 1 ≤ nums.length < 104 -10* ≤ nums[i], target ≤ 104 All integers in nums are distinct and sorted in ascending order."
   ]
  },
  {
   "cell_type": "code",
   "execution_count": 4,
   "id": "95f4abd7",
   "metadata": {},
   "outputs": [
    {
     "name": "stdout",
     "output_type": "stream",
     "text": [
      "2\n",
      "2\n"
     ]
    }
   ],
   "source": [
    "def search_insert(nums, target):\n",
    "    low = 0\n",
    "    high = len(nums) - 1\n",
    "    \n",
    "    while low <= high:\n",
    "        mid = (low + high) // 2\n",
    "        \n",
    "        if nums[mid] == target:\n",
    "            return mid\n",
    "        elif nums[mid] < target:\n",
    "            low = mid + 1\n",
    "        else:\n",
    "            high = mid - 1\n",
    "            \n",
    "    # If not found, low is the correct insert position\n",
    "    return low\n",
    "\n",
    "# Example usage:\n",
    "nums = [2, 4, 6]\n",
    "target = 5\n",
    "print(search_insert(nums, target))  # Output: 2\n",
    "\n",
    "nums = [2, 4, 6, 8]\n",
    "target = 6\n",
    "print(search_insert(nums, target))  # Output: 2\n"
   ]
  },
  {
   "cell_type": "code",
   "execution_count": null,
   "id": "bff91592",
   "metadata": {},
   "outputs": [],
   "source": []
  }
 ],
 "metadata": {
  "kernelspec": {
   "display_name": "Python 3 (ipykernel)",
   "language": "python",
   "name": "python3"
  },
  "language_info": {
   "codemirror_mode": {
    "name": "ipython",
    "version": 3
   },
   "file_extension": ".py",
   "mimetype": "text/x-python",
   "name": "python",
   "nbconvert_exporter": "python",
   "pygments_lexer": "ipython3",
   "version": "3.10.9"
  }
 },
 "nbformat": 4,
 "nbformat_minor": 5
}
