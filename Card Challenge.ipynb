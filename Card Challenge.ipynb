{
 "cells": [
  {
   "cell_type": "markdown",
   "id": "d4468978",
   "metadata": {},
   "source": [
    "In the mystical land of Salkuni, you are a contestant in the annual Power Token Tournament. You begin with a certain amount of magical power and a score of 0. A bag lies before you, filled with enchanted tokens, each with a specific power value.\n",
    "\n",
    "Your challenge is to play these tokens strategically to achieve the highest possible score.\n",
    "\n",
    "Each token can be used exactly once in one of two ways: Face-Up: If your current power is greater than or equal to the token's value, spend that power to gain 1 score.\n",
    "\n",
    "Face-Down: If your score is at least 1, sacrifice 1 score to gain power equal to the token's value.\n",
    "\n",
    "You can play tokens in any order. Your goal is to maximize your score at any point in the process.\n",
    "\n",
    "Input Format\n",
    "\n",
    "An integer array tokens, where tokens[i] is the power value of the i-th token.\n",
    "An integer power, your initial amount of power.\n",
    "\n",
    "Output Format\n",
    "\n",
    "A single integer: the maximum score you can achieve.\n",
    "\n",
    "Examples\n",
    "\n",
    "Example 1\n",
    "\n",
    "Input: tokens = [20, 50, 70, 120] power = 90\n",
    "\n",
    "Output: 2\n",
    "\n",
    "Explanation:\n",
    "\n",
    "Use 20 face-up → power = 70, score = 1\n",
    "\n",
    "Use 50 face-up → power = 20, score = 2\n",
    "\n",
    "Use 70 face-down → power = 90, score = 1\n",
    "\n",
    "Use 120 face-down → power = 210, score = 0\n",
    "\n",
    "Highest score achieved = 2\n",
    "\n",
    "Example 2\n",
    "\n",
    "Input: tokens = [10, 30, 60, 90] power = 100\n",
    "\n",
    "Output: 3\n",
    "\n",
    "Funlanation\n",
    "\n",
    "← Back to Problems\n",
    "\n",
    "3\n",
    "\n",
    "IJ\n",
    "\n",
    "S"
   ]
  },
  {
   "cell_type": "code",
   "execution_count": 2,
   "id": "fd6fd62b",
   "metadata": {},
   "outputs": [
    {
     "name": "stdout",
     "output_type": "stream",
     "text": [
      "2\n"
     ]
    }
   ],
   "source": [
    "def max_score(tokens, power):\n",
    "    tokens.sort()\n",
    "    left, right = 0, len(tokens) - 1\n",
    "    score = max_score = 0\n",
    "\n",
    "    while left <= right:\n",
    "        if power >= tokens[left]:\n",
    "            power -= tokens[left]\n",
    "            score += 1\n",
    "            left += 1\n",
    "            max_score = max(max_score, score)\n",
    "        elif score >= 1:\n",
    "            power += tokens[right]\n",
    "            score -= 1\n",
    "            right -= 1\n",
    "        else:\n",
    "            break\n",
    "\n",
    "    return max_score\n",
    "tokens = [20, 50, 70, 120]\n",
    "power=90\n",
    "print(max_score(tokens,power))"
   ]
  },
  {
   "cell_type": "code",
   "execution_count": null,
   "id": "3b69998a",
   "metadata": {},
   "outputs": [],
   "source": []
  }
 ],
 "metadata": {
  "kernelspec": {
   "display_name": "Python 3 (ipykernel)",
   "language": "python",
   "name": "python3"
  },
  "language_info": {
   "codemirror_mode": {
    "name": "ipython",
    "version": 3
   },
   "file_extension": ".py",
   "mimetype": "text/x-python",
   "name": "python",
   "nbconvert_exporter": "python",
   "pygments_lexer": "ipython3",
   "version": "3.10.9"
  }
 },
 "nbformat": 4,
 "nbformat_minor": 5
}
