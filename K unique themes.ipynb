{
 "cells": [
  {
   "cell_type": "markdown",
   "id": "e1edce87",
   "metadata": {},
   "source": [
    "Problem Statement\n",
    "\n",
    "Problem Statement\n",
    "\n",
    "At the Global Science Expo, a school brings a group of students. Every student has a favorite project theme, represented by an integer.\n",
    "\n",
    "The school wants to divide the students into two clubs:\n",
    "\n",
    "Club Stellar\n",
    "\n",
    "Club Nova\n",
    "\n",
    "Following these rules:\n",
    "\n",
    "Each club must have exactly K different project themes among its members.\n",
    "\n",
    "Every student must be placed in only one club.\n",
    "\n",
    "Your task is to determine if it's possible to split the students into two such clubs so that both have exactly K unique themes.\n",
    "Input Format\n",
    "\n",
    "The first line contains two integers:\n",
    "\n",
    "N: the number of students\n",
    "\n",
    "K: the required number of unique themes per club\n",
    "\n",
    "The second line contains N integers: each representing a\n",
    "\n",
    "student's favorite project theme.\n",
    "\n",
    "Output Format\n",
    "\n",
    "Print YES if such a split is possible.\n",
    "\n",
    "Otherwise, print NO.\n",
    "\n",
    "Examples\n",
    "\n",
    "Example 1\n",
    "\n",
    "Input\n",
    "\n",
    "52\n",
    "\n",
    "23213\n",
    "\n",
    "Output\n",
    "\n",
    "YES\n",
    "\n",
    "Explanation\n",
    "Explanation\n",
    "\n",
    "Themes available: {1, 2, 3}\n",
    "\n",
    "We can form two clubs each with 2 unique themes:\n",
    "\n",
    "Club Stellar: Themes 2 and 3\n",
    "\n",
    "Club Nova: Themes 1 and 3\n",
    "\n",
    "Each student is in only one club and each club has exactly 2 different themes.\n",
    "\n",
    "Example 2\n",
    "\n",
    "Input\n",
    "\n",
    "43\n",
    "\n",
    "1221\n",
    "\n",
    "Output\n",
    "\n",
    "NO\n",
    "\n",
    "Explanation\n",
    "\n",
    "Only 2 unique themes are available (1 and 2), but each club needs 3 unique themes. Hence, it is not possible."
   ]
  },
  {
   "cell_type": "code",
   "execution_count": 1,
   "id": "2f75b8c5",
   "metadata": {},
   "outputs": [
    {
     "name": "stdout",
     "output_type": "stream",
     "text": [
      "5 2\n",
      "2 3 2 1 3\n",
      "YES\n"
     ]
    }
   ],
   "source": [
    "n, k = map(int, input().split())\n",
    "themes = list(map(int, input().split()))\n",
    "\n",
    "unique_themes = set(themes)\n",
    "\n",
    "if len(unique_themes) >= k:\n",
    "    print(\"YES\")\n",
    "else:\n",
    "    print(\"NO\")\n"
   ]
  },
  {
   "cell_type": "code",
   "execution_count": null,
   "id": "61566c7c",
   "metadata": {},
   "outputs": [],
   "source": []
  }
 ],
 "metadata": {
  "kernelspec": {
   "display_name": "Python 3 (ipykernel)",
   "language": "python",
   "name": "python3"
  },
  "language_info": {
   "codemirror_mode": {
    "name": "ipython",
    "version": 3
   },
   "file_extension": ".py",
   "mimetype": "text/x-python",
   "name": "python",
   "nbconvert_exporter": "python",
   "pygments_lexer": "ipython3",
   "version": "3.10.9"
  }
 },
 "nbformat": 4,
 "nbformat_minor": 5
}
