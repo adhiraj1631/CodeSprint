{
 "cells": [
  {
   "cell_type": "markdown",
   "id": "eba69fb9",
   "metadata": {},
   "source": [
    "The Magic Stack Mirror\n",
    "\n",
    "Problem Statement\n",
    "\n",
    "In the enchanted village of Stackland, every villager carries a magical stack. When you place a letter on top of the stack and then remove them one by one, the letters come out in reverse order! The villagers use this magical behavior to create secret messages or read messages backwards for fun.\n",
    "\n",
    "Your task is to simulate this magic and reverse any given string using a stack- just like a true Stacklander!\n",
    "\n",
    "Input Format\n",
    "\n",
    "A single string s consisting of characters (letters, spaces, symbols, etc.).\n",
    "\n",
    "Output Format\n",
    "\n",
    "The string s in reverse order.\n",
    "Examples\n",
    "\n",
    "Example 1\n",
    "\n",
    "Input\n",
    "\n",
    "A man a plan a canal Panama\n",
    "\n",
    "Output\n",
    "\n",
    "amanap lanac a nalp a nam A\n",
    "\n",
    "Explanation: Each character, including spaces, is pushed onto the stack and then popped one by one to build the reversed string.\n",
    "\n",
    "Example 2\n",
    "\n",
    "Input\n",
    "\n",
    "!@#$%\n",
    "\n",
    "Output\n",
    "\n",
    "%$#@!\n",
    "\n",
    "Explanation: Every symbols are reversed perfectly by the magical stack.\n",
    "\n",
    "Constraints\n",
    "1 ≤ length of s≤ 105"
   ]
  },
  {
   "cell_type": "code",
   "execution_count": 1,
   "id": "3d74c2a2",
   "metadata": {},
   "outputs": [
    {
     "name": "stdout",
     "output_type": "stream",
     "text": [
      "A man a plan a canal Panama\n",
      "amanaP lanac a nalp a nam A\n"
     ]
    }
   ],
   "source": [
    "# Function to reverse the string using a stack\n",
    "def reverse_with_stack(s):\n",
    "    stack = []\n",
    "\n",
    "    # Push all characters of the string onto the stack\n",
    "    for char in s:\n",
    "        stack.append(char)\n",
    "\n",
    "    reversed_string = ''\n",
    "\n",
    "    # Pop characters from the stack to reverse the string\n",
    "    while stack:\n",
    "        reversed_string += stack.pop()\n",
    "\n",
    "    return reversed_string\n",
    "\n",
    "# Read input\n",
    "input_string = input()\n",
    "\n",
    "# Call the function and print the result\n",
    "print(reverse_with_stack(input_string))\n"
   ]
  },
  {
   "cell_type": "code",
   "execution_count": null,
   "id": "16ac5459",
   "metadata": {},
   "outputs": [],
   "source": []
  }
 ],
 "metadata": {
  "kernelspec": {
   "display_name": "Python 3 (ipykernel)",
   "language": "python",
   "name": "python3"
  },
  "language_info": {
   "codemirror_mode": {
    "name": "ipython",
    "version": 3
   },
   "file_extension": ".py",
   "mimetype": "text/x-python",
   "name": "python",
   "nbconvert_exporter": "python",
   "pygments_lexer": "ipython3",
   "version": "3.10.9"
  }
 },
 "nbformat": 4,
 "nbformat_minor": 5
}
