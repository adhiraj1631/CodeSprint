{
 "cells": [
  {
   "cell_type": "markdown",
   "id": "7fd91d93",
   "metadata": {},
   "source": [
    "Problem Statement\n",
    "\n",
    "At the annual Tech Carnival, you're handed a secret code a binary string made up of only Øs and 1s. Your mission is to sort this string such that:\n",
    "\n",
    "All the Os come before all the 1s.\n",
    "\n",
    "You have a special operation:\n",
    "\n",
    "In one move, you can pick any two different positions in the string and flip both characters.\n",
    "\n",
    "(Flip means becomes 1 and 1 becomes 0.)\n",
    "\n",
    "Your task is to determine the minimum number of such operations required to sort the string.\n",
    "\n",
    "Input Format\n",
    "\n",
    "The first line contains an integer N-the length of the\n",
    "binary string.\n",
    "\n",
    "The second line contains the binary string S of length N (consisting of only Øs and 1s).\n",
    "\n",
    "Output Format\n",
    "\n",
    "Print a single integer - the minimum number of operations needed to sort the string.\n",
    "\n",
    "Example 1\n",
    "\n",
    "Input\n",
    "\n",
    "5\n",
    "\n",
    "10101\n",
    "\n",
    "Output\n",
    "\n",
    "1\n",
    "\n",
    "Explanation\n",
    "\n",
    "To sort 10101 into 00111, we need to fix 1 pair of misplaced\n",
    "\n",
    "digits: Flip Position 0 and 3: 10101 -> 00111\n",
    "\n",
    "After 1 operation, the string is sorted"
   ]
  },
  {
   "cell_type": "code",
   "execution_count": 1,
   "id": "f6707144",
   "metadata": {},
   "outputs": [
    {
     "name": "stdout",
     "output_type": "stream",
     "text": [
      "5\n",
      "10101\n",
      "1\n"
     ]
    }
   ],
   "source": [
    "n = int(input())\n",
    "s = input().strip()\n",
    "\n",
    "# Prefix sum of 1's from left\n",
    "ones_left = [0] * (n + 1)\n",
    "for i in range(n):\n",
    "    ones_left[i+1] = ones_left[i] + (s[i] == '1')\n",
    "\n",
    "# Suffix sum of 0's from right\n",
    "zeros_right = [0] * (n + 1)\n",
    "for i in range(n-1, -1, -1):\n",
    "    zeros_right[i] = zeros_right[i+1] + (s[i] == '0')\n",
    "\n",
    "# Try every split point and take the minimum\n",
    "ans = n\n",
    "for i in range(n+1):\n",
    "    ans = min(ans, max(ones_left[i], zeros_right[i]))\n",
    "\n",
    "print(ans)\n"
   ]
  },
  {
   "cell_type": "code",
   "execution_count": null,
   "id": "8cce1460",
   "metadata": {},
   "outputs": [],
   "source": []
  }
 ],
 "metadata": {
  "kernelspec": {
   "display_name": "Python 3 (ipykernel)",
   "language": "python",
   "name": "python3"
  },
  "language_info": {
   "codemirror_mode": {
    "name": "ipython",
    "version": 3
   },
   "file_extension": ".py",
   "mimetype": "text/x-python",
   "name": "python",
   "nbconvert_exporter": "python",
   "pygments_lexer": "ipython3",
   "version": "3.10.9"
  }
 },
 "nbformat": 4,
 "nbformat_minor": 5
}
