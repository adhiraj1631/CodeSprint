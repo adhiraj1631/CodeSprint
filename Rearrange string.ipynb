{
 "cells": [
  {
   "cell_type": "markdown",
   "id": "2cee97cf",
   "metadata": {},
   "source": [
    "Problem Statement\n",
    "\n",
    "In the village of Jamua from Jharkhand, festival organizers want to create a vibrant banner using a string of letters. However, to make it visually appealing, no two identical letters can be placed next to each other.\n",
    "\n",
    "You are given a string s of lowercase English letters representing the initial design. Your task is to rearrange the letters so that no two adjacent letters are the same. If it is possible to rearrange the string to meet this requirement, return any valid arrangement. If it's not possible, return an empty string (\"\").\n",
    "\n",
    "Input Format\n",
    "\n",
    "A single string s consisting of lowercase English letters.\n",
    "\n",
    "Output Format\n",
    "A string representing any valid rearrangement of s such that no two adjacent characters are the same.\n",
    "\n",
    "Return an empty string \"\" if no valid rearrangement is possible.\n",
    "\n",
    "Examples\n",
    "\n",
    "Example 1\n",
    "\n",
    "Input: s = \"aab\"\n",
    "\n",
    "Output: \"aba\"\n",
    "\n",
    "Explanation:\n",
    "\n",
    "The string has two 'a's and one 'b'.\n",
    "\n",
    "One valid rearrangement is \"aba\".\n",
    "\n",
    "Example 2\n",
    "\n",
    "Input: s = \"aaab\"\n",
    "\n",
    "Output:\"\"\n",
    "\n",
    "Explanation:\n",
    "\n",
    "The string has three 'a's and one 'b'.\n",
    "\n",
    "No rearrangement exists where the 'a's don't end up\n",
    " No rearrangement exists where the 'a's don't end up adjacent to each other.\n",
    "\n",
    "Constraints\n",
    "\n",
    "1 ≤ s.length ≤ 10\n",
    "\n",
    "s contains only lowercase English letters."
   ]
  },
  {
   "cell_type": "code",
   "execution_count": 1,
   "id": "33ea9db7",
   "metadata": {},
   "outputs": [
    {
     "name": "stdout",
     "output_type": "stream",
     "text": [
      "aba\n",
      "aba\n"
     ]
    }
   ],
   "source": [
    "from collections import Counter\n",
    "import heapq\n",
    "\n",
    "def reorganize_string(s):\n",
    "    # Step 1: Count frequencies of each character\n",
    "    freq_map = Counter(s)\n",
    "\n",
    "    # Step 2: Build max heap using negative frequencies\n",
    "    max_heap = [(-freq, char) for char, freq in freq_map.items()]\n",
    "    heapq.heapify(max_heap)\n",
    "\n",
    "    result = []\n",
    "    prev_freq, prev_char = 0, ''  # to hold the previous character info\n",
    "\n",
    "    while max_heap:\n",
    "        freq, char = heapq.heappop(max_heap)\n",
    "        result.append(char)\n",
    "\n",
    "        # Re-add the previous character back if it still has remaining count\n",
    "        if prev_freq < 0:\n",
    "            heapq.heappush(max_heap, (prev_freq, prev_char))\n",
    "\n",
    "        # Update previous character info\n",
    "        prev_freq = freq + 1  # since freq is negative\n",
    "        prev_char = char\n",
    "\n",
    "    rearranged = ''.join(result)\n",
    "    \n",
    "    # Final check to ensure no two adjacent characters are the same\n",
    "    for i in range(1, len(rearranged)):\n",
    "        if rearranged[i] == rearranged[i - 1]:\n",
    "            return \"\"\n",
    "\n",
    "    return rearranged\n",
    "\n",
    "print(reorganize_string(\"aab\"))   # Output: \"aba\"\n",
    "print(reorganize_string(\"aaab\"))  # Output: \"\"\n"
   ]
  },
  {
   "cell_type": "code",
   "execution_count": null,
   "id": "7a895fd6",
   "metadata": {},
   "outputs": [],
   "source": []
  }
 ],
 "metadata": {
  "kernelspec": {
   "display_name": "Python 3 (ipykernel)",
   "language": "python",
   "name": "python3"
  },
  "language_info": {
   "codemirror_mode": {
    "name": "ipython",
    "version": 3
   },
   "file_extension": ".py",
   "mimetype": "text/x-python",
   "name": "python",
   "nbconvert_exporter": "python",
   "pygments_lexer": "ipython3",
   "version": "3.10.9"
  }
 },
 "nbformat": 4,
 "nbformat_minor": 5
}
